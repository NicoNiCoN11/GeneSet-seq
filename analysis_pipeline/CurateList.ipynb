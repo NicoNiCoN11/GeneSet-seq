{
 "cells": [
  {
   "cell_type": "code",
   "execution_count": 12,
   "id": "16c7ebac",
   "metadata": {},
   "outputs": [],
   "source": [
    "import os\n",
    "import sys\n",
    "sys.path.append('/home/jiguo/denovo_rpe1_scrnaseq/analysis_pipeline')\n",
    "import pandas as pd\n",
    "import functions as fn"
   ]
  },
  {
   "cell_type": "code",
   "execution_count": 13,
   "id": "da88cb03",
   "metadata": {},
   "outputs": [],
   "source": [
    "adata = fn.load_adata('/home/jiguo/data/data/anndata/adata_all_pp_cc.h5')"
   ]
  },
  {
   "cell_type": "code",
   "execution_count": 15,
   "id": "b69e43e1",
   "metadata": {},
   "outputs": [
    {
     "name": "stdout",
     "output_type": "stream",
     "text": [
      "There are 5 genes out of 148 not found in the data object.\n",
      "Missing genes:\n",
      " - PDE4DIP\n",
      " - MZT2B\n",
      " - HAUS7\n",
      " - MZT2A\n",
      " - OBSCN-AS1\n"
     ]
    }
   ],
   "source": [
    "list_p = fn.load_gene_list('denovo_rpe1_scrnaseq/CentrosomalProteinGenes.txt', gene_index=\"Gene Names\")\n",
    "list_p = fn.check_genes_in_data(list_p, adata, show_missing=True)"
   ]
  },
  {
   "cell_type": "code",
   "execution_count": null,
   "id": "172623b8",
   "metadata": {},
   "outputs": [],
   "source": []
  }
 ],
 "metadata": {
  "kernelspec": {
   "display_name": "Python 3 (ipykernel)",
   "language": "python",
   "name": "python3"
  },
  "language_info": {
   "codemirror_mode": {
    "name": "ipython",
    "version": 3
   },
   "file_extension": ".py",
   "mimetype": "text/x-python",
   "name": "python",
   "nbconvert_exporter": "python",
   "pygments_lexer": "ipython3",
   "version": "3.10.4"
  }
 },
 "nbformat": 4,
 "nbformat_minor": 5
}
